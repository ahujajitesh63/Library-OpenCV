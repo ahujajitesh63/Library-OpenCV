{
 "cells": [
  {
   "cell_type": "code",
   "execution_count": 1,
   "id": "d32b182c",
   "metadata": {},
   "outputs": [],
   "source": [
    "import cv2"
   ]
  },
  {
   "cell_type": "code",
   "execution_count": 2,
   "id": "9df3d3e5",
   "metadata": {},
   "outputs": [
    {
     "name": "stdout",
     "output_type": "stream",
     "text": [
      "--2022-07-06 13:08:07--  https://cdn.pixabay.com/photo/2015/02/13/10/18/stop-634941_1280.jpg\n",
      "Resolving cdn.pixabay.com (cdn.pixabay.com)... 172.64.150.12, 104.18.37.244, 2606:4700:4400::ac40:960c, ...\n",
      "Connecting to cdn.pixabay.com (cdn.pixabay.com)|172.64.150.12|:443... connected.\n",
      "HTTP request sent, awaiting response... 200 OK\n",
      "Length: 100743 (98K) [image/jpeg]\n",
      "Saving to: ‘stop-634941_1280.jpg.2’\n",
      "\n",
      "stop-634941_1280.jp 100%[===================>]  98.38K   275KB/s    in 0.4s    \n",
      "\n",
      "2022-07-06 13:08:09 (275 KB/s) - ‘stop-634941_1280.jpg.2’ saved [100743/100743]\n",
      "\n"
     ]
    }
   ],
   "source": [
    "!wget \"https://cdn.pixabay.com/photo/2015/02/13/10/18/stop-634941_1280.jpg\""
   ]
  },
  {
   "cell_type": "code",
   "execution_count": 2,
   "id": "67eb4ac3",
   "metadata": {},
   "outputs": [],
   "source": [
    "image = cv2.imread(\"stop-634941_1280.jpg\")"
   ]
  },
  {
   "cell_type": "code",
   "execution_count": 3,
   "id": "43d1acfe",
   "metadata": {},
   "outputs": [],
   "source": [
    "def cv2_imshow(image):\n",
    "    cv2.imshow(\"\",image)\n",
    "    k = cv2.waitKey(0) & 0xFF\n",
    "    if(k==27):\n",
    "        cv2.destroyAllWindows()\n",
    "    "
   ]
  },
  {
   "cell_type": "code",
   "execution_count": 5,
   "id": "388d4f38",
   "metadata": {},
   "outputs": [],
   "source": [
    "cv2_imshow(image)"
   ]
  },
  {
   "cell_type": "code",
   "execution_count": 4,
   "id": "b1ad9efc",
   "metadata": {},
   "outputs": [],
   "source": [
    "image_hsv = cv2.cvtColor(image, cv2.COLOR_BGR2HSV)\n"
   ]
  },
  {
   "cell_type": "code",
   "execution_count": null,
   "id": "f4f99c64",
   "metadata": {},
   "outputs": [],
   "source": [
    "cv2_imshow(image_hsv)"
   ]
  },
  {
   "cell_type": "code",
   "execution_count": 21,
   "id": "c3b22136",
   "metadata": {},
   "outputs": [],
   "source": [
    "MINIMUM_HSV = (0,100,0)\n",
    "MAXIMUM_HSV = (10,255,255)\n",
    "stop_mask = cv2.inRange(image_hsv,\n",
    "                   MINIMUM_HSV,\n",
    "                   MAXIMUM_HSV)\n"
   ]
  },
  {
   "cell_type": "code",
   "execution_count": 5,
   "id": "f50a7753",
   "metadata": {},
   "outputs": [
    {
     "ename": "NameError",
     "evalue": "name 'mask' is not defined",
     "output_type": "error",
     "traceback": [
      "\u001b[0;31m---------------------------------------------------------------------------\u001b[0m",
      "\u001b[0;31mNameError\u001b[0m                                 Traceback (most recent call last)",
      "Input \u001b[0;32mIn [5]\u001b[0m, in \u001b[0;36m<cell line: 1>\u001b[0;34m()\u001b[0m\n\u001b[0;32m----> 1\u001b[0m cv2_imshow(\u001b[43mmask\u001b[49m)\n",
      "\u001b[0;31mNameError\u001b[0m: name 'mask' is not defined"
     ]
    }
   ],
   "source": [
    "cv2_imshow(mask)"
   ]
  },
  {
   "cell_type": "code",
   "execution_count": 7,
   "id": "06175cc7",
   "metadata": {},
   "outputs": [],
   "source": [
    "owl = cv2.imread(\"/home/ahujajit22/Downloads/study/OpenCV Learn/barn-owl-2550068_1280.jpg\")"
   ]
  },
  {
   "cell_type": "code",
   "execution_count": 19,
   "id": "35e736c1",
   "metadata": {},
   "outputs": [],
   "source": [
    "cv2_imshow(owl)"
   ]
  },
  {
   "cell_type": "code",
   "execution_count": 8,
   "id": "8be37412",
   "metadata": {},
   "outputs": [],
   "source": [
    "owl_hsv = cv2.cvtColor(owl, cv2.COLOR_BGR2HSV)\n"
   ]
  },
  {
   "cell_type": "code",
   "execution_count": 20,
   "id": "29f1daf4",
   "metadata": {},
   "outputs": [],
   "source": [
    "cv2_imshow(owl_hsv)"
   ]
  },
  {
   "cell_type": "code",
   "execution_count": 17,
   "id": "d4c1188a",
   "metadata": {},
   "outputs": [],
   "source": [
    "MINIMUM_YELLOW = (0, 0 , 135)\n",
    "MAXIMUM_YELLOW = (36, 255,255)\n",
    "owl_mask = cv2.inRange(owl_hsv, MINIMUM_YELLOW, MAXIMUM_YELLOW )"
   ]
  },
  {
   "cell_type": "code",
   "execution_count": 18,
   "id": "89be8be7",
   "metadata": {},
   "outputs": [],
   "source": [
    "cv2_imshow(owl_mask)"
   ]
  },
  {
   "cell_type": "code",
   "execution_count": 24,
   "id": "0072787f",
   "metadata": {},
   "outputs": [
    {
     "data": {
      "text/plain": [
       "True"
      ]
     },
     "execution_count": 24,
     "metadata": {},
     "output_type": "execute_result"
    }
   ],
   "source": [
    "cv2.imwrite(\"stop_detection_mask.jpg\",stop_mask)"
   ]
  },
  {
   "cell_type": "code",
   "execution_count": 25,
   "id": "a371e1ed",
   "metadata": {},
   "outputs": [
    {
     "data": {
      "text/plain": [
       "True"
      ]
     },
     "execution_count": 25,
     "metadata": {},
     "output_type": "execute_result"
    }
   ],
   "source": [
    "cv2.imwrite(\"owl_detection_mask.jpg\", owl_mask)"
   ]
  },
  {
   "cell_type": "code",
   "execution_count": null,
   "id": "be1a2589",
   "metadata": {},
   "outputs": [],
   "source": []
  }
 ],
 "metadata": {
  "kernelspec": {
   "display_name": "Python 3 (ipykernel)",
   "language": "python",
   "name": "python3"
  },
  "language_info": {
   "codemirror_mode": {
    "name": "ipython",
    "version": 3
   },
   "file_extension": ".py",
   "mimetype": "text/x-python",
   "name": "python",
   "nbconvert_exporter": "python",
   "pygments_lexer": "ipython3",
   "version": "3.9.12"
  }
 },
 "nbformat": 4,
 "nbformat_minor": 5
}
