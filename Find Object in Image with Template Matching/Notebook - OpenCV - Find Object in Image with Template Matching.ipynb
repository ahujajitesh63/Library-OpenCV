{
 "cells": [
  {
   "cell_type": "code",
   "execution_count": 1,
   "id": "47905426",
   "metadata": {},
   "outputs": [],
   "source": [
    "import cv2"
   ]
  },
  {
   "cell_type": "code",
   "execution_count": 2,
   "id": "7c52d422",
   "metadata": {},
   "outputs": [],
   "source": [
    "image = cv2.imread(\"stop-634941_1280.jpg\")"
   ]
  },
  {
   "cell_type": "code",
   "execution_count": 3,
   "id": "d69ba3bd",
   "metadata": {},
   "outputs": [],
   "source": [
    "def cv2_imshow(image):\n",
    "    cv2.imshow(\"\",image)\n",
    "    k = cv2.waitKey(0) & 0xFF\n",
    "    if(k==27):\n",
    "        cv2.destroyAllWindows()"
   ]
  },
  {
   "cell_type": "code",
   "execution_count": 4,
   "id": "d61ef773",
   "metadata": {},
   "outputs": [],
   "source": [
    "cv2_imshow(image)"
   ]
  },
  {
   "cell_type": "code",
   "execution_count": 5,
   "id": "af67873a",
   "metadata": {},
   "outputs": [],
   "source": [
    "mask = cv2.imread(\"stop_mask.png\")"
   ]
  },
  {
   "cell_type": "code",
   "execution_count": 6,
   "id": "411576af",
   "metadata": {},
   "outputs": [],
   "source": [
    "cv2_imshow(mask)"
   ]
  },
  {
   "cell_type": "code",
   "execution_count": 10,
   "id": "f1822ce6",
   "metadata": {},
   "outputs": [
    {
     "data": {
      "text/plain": [
       "array([[-1144787.8 , -1117382.9 , -1074300.2 , ...,  1738019.9 ,\n",
       "         1740201.9 ,  1733720.  ],\n",
       "       [-1295496.5 , -1269468.8 , -1226084.  , ...,  1710512.5 ,\n",
       "         1711261.8 ,  1716398.6 ],\n",
       "       [-1445039.1 , -1414929.8 , -1373193.2 , ...,  1694768.9 ,\n",
       "         1691643.9 ,  1698671.2 ],\n",
       "       ...,\n",
       "       [  793760.9 ,   807386.3 ,   816902.4 , ...,  3560723.8 ,\n",
       "         3465522.2 ,  3385406.5 ],\n",
       "       [  804485.44,   814903.5 ,   830172.2 , ...,  3302206.8 ,\n",
       "         3200114.8 ,  3115729.  ],\n",
       "       [  813200.8 ,   822843.5 ,   834919.94, ...,  3034423.8 ,\n",
       "         2936130.2 ,  2855468.5 ]], dtype=float32)"
      ]
     },
     "execution_count": 10,
     "metadata": {},
     "output_type": "execute_result"
    }
   ],
   "source": [
    "template = cv2.imread(\"stop_mask.png\",\n",
    "                     cv2.IMREAD_COLOR)\n",
    "method = eval(\"cv2.TM_CCOEFF\")\n",
    "method\n",
    "\n",
    "result = cv2.matchTemplate(image,\n",
    "                 templ = template,\n",
    "                 method = method)\n",
    "\n",
    "result"
   ]
  },
  {
   "cell_type": "code",
   "execution_count": 13,
   "id": "dde34eb9",
   "metadata": {},
   "outputs": [],
   "source": [
    "cv2_imshow(result)"
   ]
  },
  {
   "cell_type": "code",
   "execution_count": 17,
   "id": "efce6ce3",
   "metadata": {},
   "outputs": [],
   "source": [
    "min_val, max_val, min_loc, max_loc = cv2.minMaxLoc(result)\n",
    "height, width, color = template.shape"
   ]
  },
  {
   "cell_type": "code",
   "execution_count": 18,
   "id": "367a2212",
   "metadata": {},
   "outputs": [
    {
     "data": {
      "text/plain": [
       "array([[[201, 186, 183],\n",
       "        [202, 187, 184],\n",
       "        [203, 188, 185],\n",
       "        ...,\n",
       "        [214, 205, 208],\n",
       "        [214, 204, 210],\n",
       "        [217, 207, 213]],\n",
       "\n",
       "       [[202, 187, 184],\n",
       "        [202, 187, 184],\n",
       "        [203, 188, 185],\n",
       "        ...,\n",
       "        [216, 207, 210],\n",
       "        [216, 206, 212],\n",
       "        [218, 208, 214]],\n",
       "\n",
       "       [[203, 188, 186],\n",
       "        [203, 188, 186],\n",
       "        [203, 188, 186],\n",
       "        ...,\n",
       "        [214, 207, 212],\n",
       "        [214, 207, 212],\n",
       "        [216, 209, 214]],\n",
       "\n",
       "       ...,\n",
       "\n",
       "       [[ 18, 133, 154],\n",
       "        [ 17, 132, 153],\n",
       "        [ 17, 132, 153],\n",
       "        ...,\n",
       "        [ 31,  67,  73],\n",
       "        [ 27,  63,  71],\n",
       "        [ 31,  67,  75]],\n",
       "\n",
       "       [[ 17, 132, 153],\n",
       "        [ 17, 132, 153],\n",
       "        [ 17, 132, 153],\n",
       "        ...,\n",
       "        [ 31,  67,  73],\n",
       "        [ 27,  63,  71],\n",
       "        [ 31,  67,  75]],\n",
       "\n",
       "       [[ 17, 132, 153],\n",
       "        [ 16, 131, 152],\n",
       "        [ 17, 132, 153],\n",
       "        ...,\n",
       "        [ 29,  65,  71],\n",
       "        [ 25,  61,  69],\n",
       "        [ 29,  65,  73]]], dtype=uint8)"
      ]
     },
     "execution_count": 18,
     "metadata": {},
     "output_type": "execute_result"
    }
   ],
   "source": [
    "TOP_LEFT = max_loc\n",
    "BOTTOM_RIGHT = (TOP_LEFT[0] + width,\n",
    "                TOP_LEFT[1]+height)\n",
    "\n",
    "color = (255,255,0)\n",
    "thickness = 2\n",
    "\n",
    "cv2.rectangle(image, \n",
    "             TOP_LEFT,\n",
    "             BOTTOM_RIGHT,\n",
    "              color,\n",
    "              thickness\n",
    "             )"
   ]
  },
  {
   "cell_type": "code",
   "execution_count": 19,
   "id": "dc8962b6",
   "metadata": {},
   "outputs": [],
   "source": [
    "cv2_imshow(image)"
   ]
  },
  {
   "cell_type": "code",
   "execution_count": 21,
   "id": "509c5d45",
   "metadata": {},
   "outputs": [
    {
     "data": {
      "text/plain": [
       "True"
      ]
     },
     "execution_count": 21,
     "metadata": {},
     "output_type": "execute_result"
    }
   ],
   "source": [
    "cv2.imwrite(\"Stop_detect_using_template_matching.png\", image)"
   ]
  },
  {
   "cell_type": "code",
   "execution_count": null,
   "id": "3363b1f7",
   "metadata": {},
   "outputs": [],
   "source": []
  }
 ],
 "metadata": {
  "kernelspec": {
   "display_name": "Python 3 (ipykernel)",
   "language": "python",
   "name": "python3"
  },
  "language_info": {
   "codemirror_mode": {
    "name": "ipython",
    "version": 3
   },
   "file_extension": ".py",
   "mimetype": "text/x-python",
   "name": "python",
   "nbconvert_exporter": "python",
   "pygments_lexer": "ipython3",
   "version": "3.9.12"
  }
 },
 "nbformat": 4,
 "nbformat_minor": 5
}
