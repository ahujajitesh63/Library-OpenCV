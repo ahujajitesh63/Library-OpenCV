{
 "cells": [
  {
   "cell_type": "code",
   "execution_count": 1,
   "id": "77d63bed",
   "metadata": {},
   "outputs": [],
   "source": [
    "import cv2"
   ]
  },
  {
   "cell_type": "code",
   "execution_count": 2,
   "id": "e6f2cef7",
   "metadata": {},
   "outputs": [],
   "source": [
    "import pytesseract"
   ]
  },
  {
   "cell_type": "code",
   "execution_count": 3,
   "id": "67667fed",
   "metadata": {},
   "outputs": [],
   "source": [
    "# !wget \"https://cdn.pixabay.com/photo/2017/08/11/09/12/graffiti-2630080_1280.jpg\""
   ]
  },
  {
   "cell_type": "code",
   "execution_count": 4,
   "id": "080fcb87",
   "metadata": {},
   "outputs": [],
   "source": [
    "def cv2_imshow(image):\n",
    "    cv2.imshow(\"\",image)\n",
    "    k = cv2.waitKey(0) & 0xFF\n",
    "    if(k==27):\n",
    "        cv2.destroyAllWindows()"
   ]
  },
  {
   "cell_type": "code",
   "execution_count": 5,
   "id": "fac9fc6a",
   "metadata": {},
   "outputs": [],
   "source": [
    "image = cv2.imread(\"graffiti-2630080_1280.jpg\")"
   ]
  },
  {
   "cell_type": "code",
   "execution_count": 6,
   "id": "0505fda3",
   "metadata": {},
   "outputs": [],
   "source": [
    "cv2_imshow(image)"
   ]
  },
  {
   "cell_type": "code",
   "execution_count": 7,
   "id": "013655fb",
   "metadata": {},
   "outputs": [],
   "source": [
    "import sklearn"
   ]
  },
  {
   "cell_type": "code",
   "execution_count": 8,
   "id": "65d3fb1e",
   "metadata": {},
   "outputs": [],
   "source": [
    "from sklearn.datasets._samples_generator import make_blobs"
   ]
  },
  {
   "cell_type": "code",
   "execution_count": 9,
   "id": "b2d1e8a6",
   "metadata": {},
   "outputs": [],
   "source": [
    "x_data, y_data = make_blobs(n_samples=100,\n",
    "          centers=2,\n",
    "          cluster_std=5.1,\n",
    "          random_state=30)"
   ]
  },
  {
   "cell_type": "code",
   "execution_count": 10,
   "id": "d7ff8ba8",
   "metadata": {},
   "outputs": [
    {
     "data": {
      "text/plain": [
       "array([1, 0, 1, 1, 1, 0, 1, 0, 1, 1, 1, 0, 0, 1, 0, 0, 1, 0, 1, 1, 0, 1,\n",
       "       0, 1, 0, 0, 1, 1, 0, 0, 0, 1, 0, 1, 1, 1, 0, 1, 1, 0, 0, 0, 1, 1,\n",
       "       0, 1, 0, 0, 1, 1, 0, 0, 1, 0, 1, 1, 0, 0, 1, 1, 1, 0, 0, 0, 0, 1,\n",
       "       0, 0, 0, 1, 1, 0, 0, 1, 1, 0, 0, 1, 1, 1, 0, 0, 0, 1, 1, 1, 0, 0,\n",
       "       0, 0, 1, 0, 1, 1, 1, 0, 1, 0, 1, 0])"
      ]
     },
     "execution_count": 10,
     "metadata": {},
     "output_type": "execute_result"
    }
   ],
   "source": [
    "y_data"
   ]
  },
  {
   "cell_type": "code",
   "execution_count": 11,
   "id": "5a81f3a7",
   "metadata": {},
   "outputs": [
    {
     "data": {
      "text/plain": [
       "array([[ 2.2147558e+00, -6.9595490e+00],\n",
       "       [ 5.2035184e+00, -4.3227682e+00],\n",
       "       [-2.9715255e-01, -4.8713274e+00],\n",
       "       [ 1.2783509e+00, -7.2593145e+00],\n",
       "       [ 7.2788990e-01, -7.6978512e+00],\n",
       "       [ 9.0908670e-01, -1.2214288e+01],\n",
       "       [ 4.4263530e+00,  3.1333673e+00],\n",
       "       [ 6.8911014e+00, -3.7035477e+00],\n",
       "       [-6.3483882e+00, -4.8683763e+00],\n",
       "       [ 1.4406197e+01, -1.0578820e+01],\n",
       "       [ 8.2253851e-02, -4.8489332e+00],\n",
       "       [ 3.0360124e+00, -4.6800699e+00],\n",
       "       [ 7.9100871e-01, -7.7659144e+00],\n",
       "       [ 1.1716012e+00, -3.7823439e+00],\n",
       "       [ 4.5309529e+00, -7.4433856e+00],\n",
       "       [ 7.9345355e+00, -5.4183230e+00],\n",
       "       [ 2.9329526e+00, -4.1614661e+00],\n",
       "       [-2.7278626e+00, -9.0948153e+00],\n",
       "       [ 6.2952247e+00,  3.8525188e+00],\n",
       "       [ 1.2009339e+00, -1.4740093e+00],\n",
       "       [ 1.2567165e+01, -4.1947632e+00],\n",
       "       [ 8.7224426e+00, -4.3158774e+00],\n",
       "       [ 5.6917295e+00,  2.4821844e+00],\n",
       "       [-7.4802208e-01, -7.9675293e+00],\n",
       "       [ 2.8534029e+00, -4.7691731e+00],\n",
       "       [ 7.2549272e-01,  3.0438285e+00],\n",
       "       [-3.8467455e+00, -6.3196163e+00],\n",
       "       [ 5.6744385e+00, -4.7883954e+00],\n",
       "       [-5.1853051e+00, -8.7249126e+00],\n",
       "       [-7.7450023e+00,  2.3976564e+00],\n",
       "       [ 9.3498125e+00, -3.8233438e+00],\n",
       "       [ 1.3986222e+01, -9.4836197e+00],\n",
       "       [ 6.8750310e+00, -1.1530543e+01],\n",
       "       [-1.6439226e+00, -1.8579273e+00],\n",
       "       [ 5.3855162e+00, -4.0675817e+00],\n",
       "       [ 4.0672159e+00, -5.9383287e+00],\n",
       "       [ 4.6345320e+00, -1.5590575e+01],\n",
       "       [-4.7013664e-01, -4.0788760e+00],\n",
       "       [ 5.4806509e+00, -3.7405202e+00],\n",
       "       [ 7.0164251e+00, -7.7133999e+00],\n",
       "       [ 8.5615788e+00, -1.2182996e+01],\n",
       "       [-1.0137732e+00, -6.3384914e+00],\n",
       "       [ 3.5610445e+00,  3.4384632e+00],\n",
       "       [ 4.4303222e+00, -1.3704597e+01],\n",
       "       [ 3.5677834e+00, -8.0299931e+00],\n",
       "       [ 5.4932146e+00, -4.1050348e+00],\n",
       "       [ 7.5398135e+00, -9.4625311e+00],\n",
       "       [ 3.9315996e+00, -4.7311635e+00],\n",
       "       [ 3.4359923e-01, -1.0883369e+01],\n",
       "       [-1.3828017e-01, -6.6993117e+00],\n",
       "       [ 9.9404917e+00,  1.4929338e+00],\n",
       "       [ 2.3693175e+00, -8.3568496e-01],\n",
       "       [-4.2546902e+00, -9.7726879e+00],\n",
       "       [ 7.9064617e+00, -1.1057403e+01],\n",
       "       [-1.0481279e+00, -1.4256581e+01],\n",
       "       [ 1.1020923e+00, -7.6046600e+00],\n",
       "       [-5.9195375e+00,  5.6989560e+00],\n",
       "       [ 8.5374677e-01,  2.8125196e+00],\n",
       "       [ 1.4395701e+01, -1.3910526e+01],\n",
       "       [-7.4243844e-01,  3.3150437e+00],\n",
       "       [ 7.1277452e+00, -4.6640973e+00],\n",
       "       [ 1.4260786e+00,  3.6064392e-01],\n",
       "       [-6.3219911e-01, -6.7340903e+00],\n",
       "       [-6.9428164e-01,  1.9453179e+00],\n",
       "       [ 1.9984645e+00, -3.4899700e+00],\n",
       "       [-1.4541215e+00, -4.8568888e+00],\n",
       "       [-2.5094211e+00, -8.9340277e+00],\n",
       "       [ 7.3655734e+00, -1.0009204e+01],\n",
       "       [ 9.2163334e+00,  6.3244786e+00],\n",
       "       [ 1.0955499e+01, -2.9355974e+00],\n",
       "       [-1.6039141e+00, -1.2396727e+01],\n",
       "       [ 5.8158689e+00, -4.9271083e+00],\n",
       "       [ 7.9959283e+00, -7.7082295e+00],\n",
       "       [ 8.0149126e+00, -1.3819938e+01],\n",
       "       [ 4.7595528e-01, -1.1061471e+01],\n",
       "       [-1.1924304e+01,  5.8611107e+00],\n",
       "       [ 2.2282057e+00, -6.9524746e+00],\n",
       "       [ 6.2195892e+00, -9.8170328e+00],\n",
       "       [ 1.8665487e+01, -8.3901320e+00],\n",
       "       [ 2.2616081e-03, -4.6969008e+00],\n",
       "       [ 1.0931821e+01, -1.8367907e+00],\n",
       "       [ 1.3401529e+00, -7.8103986e+00],\n",
       "       [-3.0091598e+00,  2.2092471e+00],\n",
       "       [ 1.2312176e+01, -4.6600032e+00],\n",
       "       [ 5.2232375e+00, -2.5804951e+00],\n",
       "       [ 6.3191438e+00, -8.6274147e+00],\n",
       "       [ 1.1576962e+01,  2.0898433e+00],\n",
       "       [ 2.7987089e+00, -2.7220926e+00],\n",
       "       [ 8.2414398e+00, -5.1230898e+00],\n",
       "       [-3.0498693e+00, -2.4938393e+00],\n",
       "       [-5.5143819e+00,  1.7912282e+00],\n",
       "       [ 2.7339878e+00,  4.7246552e+00],\n",
       "       [ 8.4695940e+00, -2.9594474e+00],\n",
       "       [-1.3483344e+00, -8.3181973e+00],\n",
       "       [-3.0518456e+00, -1.4942477e+01],\n",
       "       [ 1.0152971e+01, -5.7752814e+00],\n",
       "       [-9.7661421e-02, -3.1384754e+00],\n",
       "       [ 1.5572031e+00,  5.0306630e-01],\n",
       "       [ 1.0997301e+01, -4.1108346e-01],\n",
       "       [ 4.5744405e+00, -1.5601699e-01]], dtype=float32)"
      ]
     },
     "execution_count": 11,
     "metadata": {},
     "output_type": "execute_result"
    }
   ],
   "source": [
    "import numpy\n",
    "X= x_data.astype(numpy.float32)\n",
    "X"
   ]
  },
  {
   "cell_type": "code",
   "execution_count": 12,
   "id": "92717aed",
   "metadata": {},
   "outputs": [],
   "source": [
    "from sklearn.preprocessing import OneHotEncoder\n"
   ]
  },
  {
   "cell_type": "code",
   "execution_count": 13,
   "id": "55e82ad8",
   "metadata": {},
   "outputs": [],
   "source": [
    "encoder = OneHotEncoder(sparse=False, dtype=numpy.float32)"
   ]
  },
  {
   "cell_type": "code",
   "execution_count": 14,
   "id": "eedcbfa6",
   "metadata": {},
   "outputs": [
    {
     "data": {
      "text/plain": [
       "OneHotEncoder(dtype=<class 'numpy.float32'>, sparse=False)"
      ]
     },
     "execution_count": 14,
     "metadata": {},
     "output_type": "execute_result"
    }
   ],
   "source": [
    "encoder"
   ]
  },
  {
   "cell_type": "code",
   "execution_count": 15,
   "id": "9fd040ec",
   "metadata": {},
   "outputs": [],
   "source": [
    "y = encoder.fit_transform(y_data.reshape(-1,1))"
   ]
  },
  {
   "cell_type": "code",
   "execution_count": 16,
   "id": "dc350d1b",
   "metadata": {},
   "outputs": [
    {
     "data": {
      "text/plain": [
       "array([[0., 1.],\n",
       "       [1., 0.],\n",
       "       [0., 1.],\n",
       "       [0., 1.],\n",
       "       [0., 1.],\n",
       "       [1., 0.],\n",
       "       [0., 1.],\n",
       "       [1., 0.],\n",
       "       [0., 1.],\n",
       "       [0., 1.],\n",
       "       [0., 1.],\n",
       "       [1., 0.],\n",
       "       [1., 0.],\n",
       "       [0., 1.],\n",
       "       [1., 0.],\n",
       "       [1., 0.],\n",
       "       [0., 1.],\n",
       "       [1., 0.],\n",
       "       [0., 1.],\n",
       "       [0., 1.],\n",
       "       [1., 0.],\n",
       "       [0., 1.],\n",
       "       [1., 0.],\n",
       "       [0., 1.],\n",
       "       [1., 0.],\n",
       "       [1., 0.],\n",
       "       [0., 1.],\n",
       "       [0., 1.],\n",
       "       [1., 0.],\n",
       "       [1., 0.],\n",
       "       [1., 0.],\n",
       "       [0., 1.],\n",
       "       [1., 0.],\n",
       "       [0., 1.],\n",
       "       [0., 1.],\n",
       "       [0., 1.],\n",
       "       [1., 0.],\n",
       "       [0., 1.],\n",
       "       [0., 1.],\n",
       "       [1., 0.],\n",
       "       [1., 0.],\n",
       "       [1., 0.],\n",
       "       [0., 1.],\n",
       "       [0., 1.],\n",
       "       [1., 0.],\n",
       "       [0., 1.],\n",
       "       [1., 0.],\n",
       "       [1., 0.],\n",
       "       [0., 1.],\n",
       "       [0., 1.],\n",
       "       [1., 0.],\n",
       "       [1., 0.],\n",
       "       [0., 1.],\n",
       "       [1., 0.],\n",
       "       [0., 1.],\n",
       "       [0., 1.],\n",
       "       [1., 0.],\n",
       "       [1., 0.],\n",
       "       [0., 1.],\n",
       "       [0., 1.],\n",
       "       [0., 1.],\n",
       "       [1., 0.],\n",
       "       [1., 0.],\n",
       "       [1., 0.],\n",
       "       [1., 0.],\n",
       "       [0., 1.],\n",
       "       [1., 0.],\n",
       "       [1., 0.],\n",
       "       [1., 0.],\n",
       "       [0., 1.],\n",
       "       [0., 1.],\n",
       "       [1., 0.],\n",
       "       [1., 0.],\n",
       "       [0., 1.],\n",
       "       [0., 1.],\n",
       "       [1., 0.],\n",
       "       [1., 0.],\n",
       "       [0., 1.],\n",
       "       [0., 1.],\n",
       "       [0., 1.],\n",
       "       [1., 0.],\n",
       "       [1., 0.],\n",
       "       [1., 0.],\n",
       "       [0., 1.],\n",
       "       [0., 1.],\n",
       "       [0., 1.],\n",
       "       [1., 0.],\n",
       "       [1., 0.],\n",
       "       [1., 0.],\n",
       "       [1., 0.],\n",
       "       [0., 1.],\n",
       "       [1., 0.],\n",
       "       [0., 1.],\n",
       "       [0., 1.],\n",
       "       [0., 1.],\n",
       "       [1., 0.],\n",
       "       [0., 1.],\n",
       "       [1., 0.],\n",
       "       [0., 1.],\n",
       "       [1., 0.]], dtype=float32)"
      ]
     },
     "execution_count": 16,
     "metadata": {},
     "output_type": "execute_result"
    }
   ],
   "source": [
    "y"
   ]
  },
  {
   "cell_type": "code",
   "execution_count": 17,
   "id": "f635c1ad",
   "metadata": {},
   "outputs": [],
   "source": [
    "import cv2"
   ]
  },
  {
   "cell_type": "code",
   "execution_count": 18,
   "id": "048f8fba",
   "metadata": {},
   "outputs": [],
   "source": [
    "model = cv2.ml.ANN_MLP_create()"
   ]
  },
  {
   "cell_type": "code",
   "execution_count": 51,
   "id": "4538f855",
   "metadata": {},
   "outputs": [],
   "source": [
    "import numpy\n",
    "\n",
    "number_of_inputs = 2\n",
    "number_of_hidden_layers =18\n",
    "number_of_outputs = 2\n",
    "model.setLayerSizes(numpy.array([number_of_inputs,\n",
    "                                number_of_hidden_layers,\n",
    "                                number_of_outputs]))"
   ]
  },
  {
   "cell_type": "code",
   "execution_count": 52,
   "id": "0130c3e5",
   "metadata": {},
   "outputs": [],
   "source": [
    "alpha = 2.5\n",
    "beta = 1\n",
    "model.setActivationFunction(cv2.ml.ANN_MLP_SIGMOID_SYM,\n",
    "                           alpha)"
   ]
  },
  {
   "cell_type": "code",
   "execution_count": 53,
   "id": "289a826f",
   "metadata": {},
   "outputs": [],
   "source": [
    "model.setTrainMethod(cv2.ml.ANN_MLP_BACKPROP)"
   ]
  },
  {
   "cell_type": "code",
   "execution_count": 54,
   "id": "2f720030",
   "metadata": {},
   "outputs": [],
   "source": [
    "termination_mode = cv2.TERM_CRITERIA_MAX_ITER + cv2.TERM_CRITERIA_EPS\n",
    "maxiumum_iterations= 1000\n",
    "minimum_accuracy = 0.001\n",
    "model.setTermCriteria((termination_mode,\n",
    "                      maxiumum_iterations,\n",
    "                      minimum_accuracy))"
   ]
  },
  {
   "cell_type": "code",
   "execution_count": 55,
   "id": "b1ca0bb4",
   "metadata": {},
   "outputs": [
    {
     "data": {
      "text/plain": [
       "True"
      ]
     },
     "execution_count": 55,
     "metadata": {},
     "output_type": "execute_result"
    }
   ],
   "source": [
    "model.train(X, cv2.ml.ROW_SAMPLE, y)"
   ]
  },
  {
   "cell_type": "code",
   "execution_count": 56,
   "id": "d31e892e",
   "metadata": {},
   "outputs": [],
   "source": [
    "ret, prediction = model.predict(X)"
   ]
  },
  {
   "cell_type": "code",
   "execution_count": 57,
   "id": "f30aff62",
   "metadata": {},
   "outputs": [],
   "source": [
    "from sklearn.metrics import accuracy_score"
   ]
  },
  {
   "cell_type": "code",
   "execution_count": 58,
   "id": "d95f8772",
   "metadata": {},
   "outputs": [
    {
     "data": {
      "text/plain": [
       "0.5"
      ]
     },
     "execution_count": 58,
     "metadata": {},
     "output_type": "execute_result"
    }
   ],
   "source": [
    "accuracy_score(prediction.round(),y)"
   ]
  },
  {
   "cell_type": "code",
   "execution_count": 60,
   "id": "a9cd47da",
   "metadata": {},
   "outputs": [
    {
     "data": {
      "text/plain": [
       "array([[-0.40310526,  1.4031053 ],\n",
       "       [-0.40310526,  1.4031053 ],\n",
       "       [-0.40310526,  1.4031053 ],\n",
       "       [-0.40310526,  1.4031053 ],\n",
       "       [-0.40310526,  1.4031053 ],\n",
       "       [-0.40310526,  1.4031053 ],\n",
       "       [-0.40310526,  1.4031053 ],\n",
       "       [-0.40310526,  1.4031053 ],\n",
       "       [-0.40310526,  1.4031053 ],\n",
       "       [-0.40310526,  1.4031053 ],\n",
       "       [-0.40310526,  1.4031053 ],\n",
       "       [-0.40310526,  1.4031053 ],\n",
       "       [-0.40310526,  1.4031053 ],\n",
       "       [-0.40310526,  1.4031053 ],\n",
       "       [-0.40310526,  1.4031053 ],\n",
       "       [-0.40310526,  1.4031053 ],\n",
       "       [-0.40310526,  1.4031053 ],\n",
       "       [-0.40310526,  1.4031053 ],\n",
       "       [-0.40310526,  1.4031053 ],\n",
       "       [-0.40310526,  1.4031053 ],\n",
       "       [-0.40310526,  1.4031053 ],\n",
       "       [-0.40310526,  1.4031053 ],\n",
       "       [-0.40310526,  1.4031053 ],\n",
       "       [-0.40310526,  1.4031053 ],\n",
       "       [-0.40310526,  1.4031053 ],\n",
       "       [-0.40310526,  1.4031053 ],\n",
       "       [-0.40310526,  1.4031053 ],\n",
       "       [-0.40310526,  1.4031053 ],\n",
       "       [-0.40310526,  1.4031053 ],\n",
       "       [-0.40310526,  1.4031053 ],\n",
       "       [-0.40310526,  1.4031053 ],\n",
       "       [-0.40310526,  1.4031053 ],\n",
       "       [-0.40310526,  1.4031053 ],\n",
       "       [-0.40310526,  1.4031053 ],\n",
       "       [-0.40310526,  1.4031053 ],\n",
       "       [-0.40310526,  1.4031053 ],\n",
       "       [-0.40310526,  1.4031053 ],\n",
       "       [-0.40310526,  1.4031053 ],\n",
       "       [-0.40310526,  1.4031053 ],\n",
       "       [-0.40310526,  1.4031053 ],\n",
       "       [-0.40310526,  1.4031053 ],\n",
       "       [-0.40310526,  1.4031053 ],\n",
       "       [-0.40310526,  1.4031053 ],\n",
       "       [-0.40310526,  1.4031053 ],\n",
       "       [-0.40310526,  1.4031053 ],\n",
       "       [-0.40310526,  1.4031053 ],\n",
       "       [-0.40310526,  1.4031053 ],\n",
       "       [-0.40310526,  1.4031053 ],\n",
       "       [-0.40310526,  1.4031053 ],\n",
       "       [-0.40310526,  1.4031053 ],\n",
       "       [-0.40310526,  1.4031053 ],\n",
       "       [-0.40310526,  1.4031053 ],\n",
       "       [-0.40310526,  1.4031053 ],\n",
       "       [-0.40310526,  1.4031053 ],\n",
       "       [-0.40310526,  1.4031053 ],\n",
       "       [-0.40310526,  1.4031053 ],\n",
       "       [-0.40310526,  1.4031053 ],\n",
       "       [-0.40310526,  1.4031053 ],\n",
       "       [-0.40310526,  1.4031053 ],\n",
       "       [-0.40310526,  1.4031053 ],\n",
       "       [-0.40310526,  1.4031053 ],\n",
       "       [-0.40310526,  1.4031053 ],\n",
       "       [-0.40310526,  1.4031053 ],\n",
       "       [-0.40310526,  1.4031053 ],\n",
       "       [-0.40310526,  1.4031053 ],\n",
       "       [-0.40310526,  1.4031053 ],\n",
       "       [-0.40310526,  1.4031053 ],\n",
       "       [-0.40310526,  1.4031053 ],\n",
       "       [-0.40310526,  1.4031053 ],\n",
       "       [-0.40310526,  1.4031053 ],\n",
       "       [-0.40310526,  1.4031053 ],\n",
       "       [-0.40310526,  1.4031053 ],\n",
       "       [-0.40310526,  1.4031053 ],\n",
       "       [-0.40310526,  1.4031053 ],\n",
       "       [-0.40310526,  1.4031053 ],\n",
       "       [-0.4031045 ,  1.4031003 ],\n",
       "       [-0.40310526,  1.4031053 ],\n",
       "       [-0.40310526,  1.4031053 ],\n",
       "       [-0.40310526,  1.4031053 ],\n",
       "       [-0.40310526,  1.4031053 ],\n",
       "       [-0.40310526,  1.4031053 ],\n",
       "       [-0.40310526,  1.4031053 ],\n",
       "       [-0.40310526,  1.4031053 ],\n",
       "       [-0.40310526,  1.4031053 ],\n",
       "       [-0.40310526,  1.4031053 ],\n",
       "       [-0.40310526,  1.4031053 ],\n",
       "       [-0.40310526,  1.4031053 ],\n",
       "       [-0.40310526,  1.4031053 ],\n",
       "       [-0.40310526,  1.4031053 ],\n",
       "       [-0.40310526,  1.4031053 ],\n",
       "       [-0.40310526,  1.4031053 ],\n",
       "       [-0.40310526,  1.4031053 ],\n",
       "       [-0.40310526,  1.4031053 ],\n",
       "       [-0.40310526,  1.4031053 ],\n",
       "       [-0.40310526,  1.4031053 ],\n",
       "       [-0.40310526,  1.4031053 ],\n",
       "       [-0.40310526,  1.4031053 ],\n",
       "       [-0.40310526,  1.4031053 ],\n",
       "       [-0.40310526,  1.4031053 ],\n",
       "       [-0.40310526,  1.4031053 ]], dtype=float32)"
      ]
     },
     "execution_count": 60,
     "metadata": {},
     "output_type": "execute_result"
    }
   ],
   "source": [
    "prediction"
   ]
  },
  {
   "cell_type": "code",
   "execution_count": 62,
   "id": "bf3281c9",
   "metadata": {},
   "outputs": [],
   "source": [
    "from matplotlib import pyplot"
   ]
  },
  {
   "cell_type": "code",
   "execution_count": 78,
   "id": "a675b493",
   "metadata": {},
   "outputs": [
    {
     "data": {
      "image/png": "[encoded data removed]",
      "text/plain": [
       "<Figure size 720x360 with 1 Axes>"
      ]
     },
     "metadata": {
      "needs_background": "light"
     },
     "output_type": "display_data"
    }
   ],
   "source": [
    "pyplot.rcParams[\"figure.figsize\"] = (10,5)\n",
    "\n",
    "def scatter(model, X, y):\n",
    "     pyplot.scatter(X[:,0], X[:,1], c=y)\n",
    "        \n",
    "\n",
    "def visualize_results (model, X, y) :\n",
    "   \n",
    "    min_x, max_x = X[:,0].min() - 1, X[:, 0].max() + 1\n",
    "    min_y, max_y = X[:,1].min() -1, X[:,1].max()+ 1\n",
    "    h = 0.02\n",
    "    \n",
    "    new_x, new_y = numpy.meshgrid(numpy.arange(min_x, max_x, h),\n",
    "                                  numpy.arange(min_y, max_y, h))\n",
    "    \n",
    "    x_hypothesis = numpy.c_[new_x.ravel().astype(numpy.float32),\n",
    "                           new_y.ravel().astype(numpy.float32)]\n",
    "    \n",
    "    ret , z = model.predict(x_hypothesis)\n",
    "    z = numpy.argmax(z, axis=1)\n",
    "    z = z.reshape(new_x.shape)\n",
    "                                  \n",
    "                                  \n",
    "    pyplot.contourf(new_x, new_y, z)\n",
    "\n",
    "visualize_results(model, X, y_data) \n",
    "scatter(model, X, y_data) \n"
   ]
  },
  {
   "cell_type": "code",
   "execution_count": null,
   "id": "ef834c65",
   "metadata": {},
   "outputs": [],
   "source": []
  },
  {
   "cell_type": "code",
   "execution_count": null,
   "id": "2dcbacab",
   "metadata": {},
   "outputs": [],
   "source": []
  },
  {
   "cell_type": "code",
   "execution_count": null,
   "id": "0e1d48bc",
   "metadata": {},
   "outputs": [],
   "source": []
  },
  {
   "cell_type": "code",
   "execution_count": null,
   "id": "d31bf498",
   "metadata": {},
   "outputs": [],
   "source": []
  },
  {
   "cell_type": "code",
   "execution_count": null,
   "id": "1b19e605",
   "metadata": {},
   "outputs": [],
   "source": []
  },
  {
   "cell_type": "code",
   "execution_count": null,
   "id": "8552f725",
   "metadata": {},
   "outputs": [],
   "source": []
  },
  {
   "cell_type": "code",
   "execution_count": null,
   "id": "9eda863a",
   "metadata": {},
   "outputs": [],
   "source": []
  },
  {
   "cell_type": "code",
   "execution_count": null,
   "id": "13e40ed8",
   "metadata": {},
   "outputs": [],
   "source": []
  },
  {
   "cell_type": "code",
   "execution_count": null,
   "id": "a41036bd",
   "metadata": {},
   "outputs": [],
   "source": []
  },
  {
   "cell_type": "code",
   "execution_count": null,
   "id": "07313029",
   "metadata": {},
   "outputs": [],
   "source": []
  },
  {
   "cell_type": "code",
   "execution_count": null,
   "id": "463e0a34",
   "metadata": {},
   "outputs": [],
   "source": []
  },
  {
   "cell_type": "code",
   "execution_count": null,
   "id": "2dfb3022",
   "metadata": {},
   "outputs": [],
   "source": []
  },
  {
   "cell_type": "code",
   "execution_count": null,
   "id": "b121a919",
   "metadata": {},
   "outputs": [],
   "source": []
  },
  {
   "cell_type": "code",
   "execution_count": null,
   "id": "57c0f6ad",
   "metadata": {},
   "outputs": [],
   "source": []
  },
  {
   "cell_type": "code",
   "execution_count": null,
   "id": "9fd5cbf7",
   "metadata": {},
   "outputs": [],
   "source": []
  },
  {
   "cell_type": "code",
   "execution_count": null,
   "id": "1ac17dc2",
   "metadata": {},
   "outputs": [],
   "source": []
  },
  {
   "cell_type": "code",
   "execution_count": null,
   "id": "bde4107c",
   "metadata": {},
   "outputs": [],
   "source": []
  },
  {
   "cell_type": "code",
   "execution_count": null,
   "id": "b6046efb",
   "metadata": {},
   "outputs": [],
   "source": []
  },
  {
   "cell_type": "markdown",
   "id": "f9e71798",
   "metadata": {},
   "source": []
  }
 ],
 "metadata": {
  "kernelspec": {
   "display_name": "Python 3 (ipykernel)",
   "language": "python",
   "name": "python3"
  },
  "language_info": {
   "codemirror_mode": {
    "name": "ipython",
    "version": 3
   },
   "file_extension": ".py",
   "mimetype": "text/x-python",
   "name": "python",
   "nbconvert_exporter": "python",
   "pygments_lexer": "ipython3",
   "version": "3.9.12"
  }
 },
 "nbformat": 4,
 "nbformat_minor": 5
}
