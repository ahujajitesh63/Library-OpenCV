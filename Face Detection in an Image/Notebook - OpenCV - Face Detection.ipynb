{
 "cells": [
  {
   "cell_type": "code",
   "execution_count": 1,
   "id": "3403c4a3",
   "metadata": {},
   "outputs": [],
   "source": [
    "import cv2"
   ]
  },
  {
   "cell_type": "code",
   "execution_count": 2,
   "id": "16f09f20",
   "metadata": {},
   "outputs": [
    {
     "name": "stdout",
     "output_type": "stream",
     "text": [
      "--2022-07-06 13:37:22--  https://cdn.pixabay.com/photo/2017/01/14/10/56/people-1979261_1280.jpg\n",
      "Resolving cdn.pixabay.com (cdn.pixabay.com)... 104.18.37.244, 172.64.150.12, 2606:4700:4400::ac40:960c, ...\n",
      "Connecting to cdn.pixabay.com (cdn.pixabay.com)|104.18.37.244|:443... connected.\n",
      "HTTP request sent, awaiting response... 200 OK\n",
      "Length: 156468 (153K) [image/jpeg]\n",
      "Saving to: ‘people-1979261_1280.jpg’\n",
      "\n",
      "people-1979261_1280 100%[===================>] 152.80K   323KB/s    in 0.5s    \n",
      "\n",
      "2022-07-06 13:37:23 (323 KB/s) - ‘people-1979261_1280.jpg’ saved [156468/156468]\n",
      "\n"
     ]
    }
   ],
   "source": [
    "!wget \"https://cdn.pixabay.com/photo/2017/01/14/10/56/people-1979261_1280.jpg\""
   ]
  },
  {
   "cell_type": "code",
   "execution_count": 2,
   "id": "8e38f74f",
   "metadata": {},
   "outputs": [],
   "source": [
    "image = cv2.imread(\"people-1979261_1280.jpg\")"
   ]
  },
  {
   "cell_type": "code",
   "execution_count": 3,
   "id": "99a8d731",
   "metadata": {},
   "outputs": [],
   "source": [
    "def cv2_imshow(image):\n",
    "    cv2.imshow(\"\",image)\n",
    "    k = cv2.waitKey(0) & 0xFF\n",
    "    if(k==27):\n",
    "        cv2.destroyAllWindows()"
   ]
  },
  {
   "cell_type": "code",
   "execution_count": 7,
   "id": "993c5d65",
   "metadata": {},
   "outputs": [],
   "source": [
    "cv2_imshow(image)"
   ]
  },
  {
   "cell_type": "code",
   "execution_count": 4,
   "id": "3eee7498",
   "metadata": {},
   "outputs": [],
   "source": [
    "face_cascade = cv2.CascadeClassifier(cv2.data.haarcascades + \"haarcascade_frontalface_default.xml\")"
   ]
  },
  {
   "cell_type": "code",
   "execution_count": 5,
   "id": "5b64b162",
   "metadata": {},
   "outputs": [],
   "source": [
    "gray_image = cv2.cvtColor(image, cv2.COLOR_BGR2GRAY)"
   ]
  },
  {
   "cell_type": "code",
   "execution_count": 10,
   "id": "55d7105d",
   "metadata": {},
   "outputs": [],
   "source": [
    "cv2_imshow(gray_image)"
   ]
  },
  {
   "cell_type": "code",
   "execution_count": 6,
   "id": "5d1c6d6f",
   "metadata": {},
   "outputs": [
    {
     "data": {
      "text/plain": [
       "array([[422,  92, 103, 103],\n",
       "       [660, 114,  92,  92],\n",
       "       [199, 282, 109, 109],\n",
       "       [902, 284, 131, 131],\n",
       "       [522, 372,  57,  57],\n",
       "       [198, 401,  83,  83]], dtype=int32)"
      ]
     },
     "execution_count": 6,
     "metadata": {},
     "output_type": "execute_result"
    }
   ],
   "source": [
    "SCALE_FACTOR = 1.1\n",
    "MINIMUM_NEIGHBORS = 4\n",
    "faces = face_cascade.detectMultiScale(gray_image, SCALE_FACTOR, MINIMUM_NEIGHBORS)\n",
    "faces"
   ]
  },
  {
   "cell_type": "code",
   "execution_count": 8,
   "id": "2ee2fbdc",
   "metadata": {},
   "outputs": [],
   "source": [
    "COLOR = (255,255,0)\n",
    "LINE_THICKNESS = 2\n",
    "for(x,y, widith, height) in faces:\n",
    "    cv2.rectangle(image,\n",
    "                  (x,y),\n",
    "                  (x+widith, y+height),\n",
    "                 COLOR,\n",
    "                 LINE_THICKNESS)"
   ]
  },
  {
   "cell_type": "code",
   "execution_count": 9,
   "id": "91d87c9a",
   "metadata": {},
   "outputs": [],
   "source": [
    "cv2_imshow(image)"
   ]
  },
  {
   "cell_type": "code",
   "execution_count": 10,
   "id": "8cdb4cac",
   "metadata": {},
   "outputs": [
    {
     "data": {
      "text/plain": [
       "True"
      ]
     },
     "execution_count": 10,
     "metadata": {},
     "output_type": "execute_result"
    }
   ],
   "source": [
    "cv2.imwrite(\"Faces_Detected.png\", image)"
   ]
  },
  {
   "cell_type": "code",
   "execution_count": null,
   "id": "15020348",
   "metadata": {},
   "outputs": [],
   "source": []
  }
 ],
 "metadata": {
  "kernelspec": {
   "display_name": "Python 3 (ipykernel)",
   "language": "python",
   "name": "python3"
  },
  "language_info": {
   "codemirror_mode": {
    "name": "ipython",
    "version": 3
   },
   "file_extension": ".py",
   "mimetype": "text/x-python",
   "name": "python",
   "nbconvert_exporter": "python",
   "pygments_lexer": "ipython3",
   "version": "3.8.13"
  }
 },
 "nbformat": 4,
 "nbformat_minor": 5
}
