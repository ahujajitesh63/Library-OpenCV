{
 "cells": [
  {
   "cell_type": "code",
   "execution_count": 1,
   "id": "144583ea",
   "metadata": {},
   "outputs": [],
   "source": [
    "import cv2"
   ]
  },
  {
   "cell_type": "code",
   "execution_count": 2,
   "id": "90931e84",
   "metadata": {},
   "outputs": [],
   "source": [
    "video_path = \"/home/ahujajit22/Downloads/study/OpenCV_Learn/yolo/darknet/Cars - 1900.mp4\""
   ]
  },
  {
   "cell_type": "code",
   "execution_count": 5,
   "id": "913cb717",
   "metadata": {},
   "outputs": [],
   "source": [
    "capture = cv2.VideoCapture(video_path)"
   ]
  },
  {
   "cell_type": "code",
   "execution_count": 11,
   "id": "a39424b0",
   "metadata": {},
   "outputs": [],
   "source": [
    "def cv2_imshow(image):\n",
    "    cv2.imshow(\"\",image)\n",
    "    k = cv2.waitKey(0) & 0xFF\n",
    "    if(k==27):\n",
    "        cv2.destroyAllWindows()"
   ]
  },
  {
   "cell_type": "code",
   "execution_count": 33,
   "id": "bbdb4d48",
   "metadata": {},
   "outputs": [],
   "source": [
    "def draw_contours(dilation, frame):\n",
    "    contours, hierarchy = cv2.findContours(dilation, cv2.RETR_EXTERNAL, cv2.CHAIN_APPROX_NONE)\n",
    "    color = (255,255,0)\n",
    "    thickness = 3\n",
    "    box_color = (0,255,0)\n",
    "    for contour in contours:\n",
    "        area = cv2.contourArea(contour)\n",
    "        if area > 100:\n",
    "            cv2.drawContours(frame, contour, -1, color, thickness)\n",
    "            perimeter = cv2.arcLength(contour, True)\n",
    "            approximation = cv2.approxPolyDP(contour,0.02*perimeter, True)\n",
    "            x, y, width, height = cv2.boundingRect(approximation)\n",
    "            cv2.rectangle(frame, (x,y), (x+width, y+height), box_color, thickness)\n",
    "    return frame        "
   ]
  },
  {
   "cell_type": "code",
   "execution_count": 48,
   "id": "8f6d0468",
   "metadata": {},
   "outputs": [],
   "source": [
    "import numpy\n",
    "number_of_frames = 1000\n",
    "kernel_size = (7,7)\n",
    "high_threshold = 100\n",
    "low_threshold = 150\n",
    "frame_list = []\n",
    "for index in range(0, number_of_frames):\n",
    "    _, frame = capture.read()\n",
    "    blur = cv2.GaussianBlur(frame,kernel_size, 1)\n",
    "    \n",
    "    gray_image = cv2.cvtColor(blur, cv2.COLOR_BGR2GRAY)\n",
    "    canny = cv2.Canny(gray_image,\n",
    "                     high_threshold,\n",
    "                     low_threshold)\n",
    "#     cv2_imshow(canny)\n",
    "    kernel = numpy.ones((5,5))\n",
    "    dilated = cv2.dilate(canny, kernel, iterations = 3)\n",
    "    new_image = draw_contours(dilated, frame)\n",
    "#     cv2_imshow(dilated)\n",
    "#     cv2_imshow(new_image)\n",
    "    frame_list.append(new_image)\n",
    "    height, width, color = new_image.shape\n",
    "    size = (width, height)\n"
   ]
  },
  {
   "cell_type": "code",
   "execution_count": 49,
   "id": "e159f16f",
   "metadata": {},
   "outputs": [],
   "source": [
    "out_path = \"Contours.avi\"\n",
    "frames_per_second = 30\n",
    "output = cv2.VideoWriter(out_path, cv2.VideoWriter_fourcc(*\"DIVX\"), frames_per_second, size)\n",
    "for frame in range(len(frame_list)):\n",
    "    output.write(frame_list[frame])\n",
    "output.release()    "
   ]
  },
  {
   "cell_type": "code",
   "execution_count": null,
   "id": "159e5b41",
   "metadata": {},
   "outputs": [],
   "source": []
  }
 ],
 "metadata": {
  "kernelspec": {
   "display_name": "Python 3 (ipykernel)",
   "language": "python",
   "name": "python3"
  },
  "language_info": {
   "codemirror_mode": {
    "name": "ipython",
    "version": 3
   },
   "file_extension": ".py",
   "mimetype": "text/x-python",
   "name": "python",
   "nbconvert_exporter": "python",
   "pygments_lexer": "ipython3",
   "version": "3.9.12"
  }
 },
 "nbformat": 4,
 "nbformat_minor": 5
}
