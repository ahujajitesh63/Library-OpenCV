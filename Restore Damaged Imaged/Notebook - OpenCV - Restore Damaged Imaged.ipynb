{
 "cells": [
  {
   "cell_type": "code",
   "execution_count": 1,
   "id": "ecb6e543",
   "metadata": {},
   "outputs": [],
   "source": [
    "import cv2"
   ]
  },
  {
   "cell_type": "code",
   "execution_count": 2,
   "id": "913f166f",
   "metadata": {},
   "outputs": [],
   "source": [
    "damaged = cv2.imread(\"owl_dam.png\")"
   ]
  },
  {
   "cell_type": "code",
   "execution_count": 3,
   "id": "b2b27c82",
   "metadata": {},
   "outputs": [],
   "source": [
    "cv2.imshow('', damaged)\n",
    "k = cv2.waitKey(0) & 0xFF\n",
    "if(k == 27):\n",
    "    cv2.destroyAllWindows()"
   ]
  },
  {
   "cell_type": "code",
   "execution_count": 4,
   "id": "fe0592dc",
   "metadata": {},
   "outputs": [],
   "source": [
    "damaged_mask = cv2.imread(\"owl_dam_mask.png\")\n",
    "cv2.imshow('', damaged_mask)\n",
    "k = cv2.waitKey(0) & 0xFF\n",
    "if (k == 27):\n",
    "    cv2.destroyAllWindows()\n",
    "    "
   ]
  },
  {
   "cell_type": "code",
   "execution_count": 5,
   "id": "d0d2c103",
   "metadata": {},
   "outputs": [],
   "source": [
    "threshold_value = 254.9999999\n",
    "output_value = 255\n",
    "ret, thresh = cv2.threshold(damaged_mask, threshold_value, output_value, cv2.THRESH_BINARY)\n",
    "\n",
    "\n",
    "cv2.imshow('', thresh)\n",
    "k = cv2.waitKey(0) & 0xFF\n",
    "if (k == 27):\n",
    "    cv2.destroyAllWindows()\n",
    "\n"
   ]
  },
  {
   "cell_type": "code",
   "execution_count": 14,
   "id": "c22363c4",
   "metadata": {},
   "outputs": [],
   "source": [
    "import numpy\n",
    "\n",
    "kernel = numpy.ones((5,5), numpy.uint8)\n",
    "\n",
    "mask = cv2.dilate(thresh, kernel, iterations = 1)\n",
    "# mask = thresh\n",
    "cv2.imshow('', mask)\n",
    "k = cv2.waitKey(0) & 0xFF\n",
    "if (k == 27):\n",
    "    cv2.destroyAllWindows()\n"
   ]
  },
  {
   "cell_type": "code",
   "execution_count": 15,
   "id": "7afb07df",
   "metadata": {},
   "outputs": [],
   "source": [
    "gray_mask = cv2.cvtColor(mask, cv2.COLOR_BGR2GRAY)\n",
    "cv2.imshow('', gray_mask)\n",
    "k = cv2.waitKey(0) & 0xFF\n",
    "if (k == 27):\n",
    "    cv2.destroyAllWindows()\n"
   ]
  },
  {
   "cell_type": "code",
   "execution_count": 16,
   "id": "8e6ae09a",
   "metadata": {},
   "outputs": [],
   "source": [
    "inpaint_radius = 19\n",
    "\n",
    "restored = cv2.inpaint(damaged, gray_mask, inpaint_radius, cv2.INPAINT_NS)\n",
    "cv2.imshow('', restored)\n",
    "k = cv2.waitKey(0) & 0xFF\n",
    "if (k == 27):\n",
    "    cv2.destroyAllWindows()\n"
   ]
  },
  {
   "cell_type": "code",
   "execution_count": 17,
   "id": "6af0bf60",
   "metadata": {},
   "outputs": [
    {
     "data": {
      "text/plain": [
       "True"
      ]
     },
     "execution_count": 17,
     "metadata": {},
     "output_type": "execute_result"
    }
   ],
   "source": [
    "cv2.imwrite(\"owl_restored.png\", restored)"
   ]
  },
  {
   "cell_type": "code",
   "execution_count": null,
   "id": "2e9f7cc2",
   "metadata": {},
   "outputs": [],
   "source": []
  }
 ],
 "metadata": {
  "kernelspec": {
   "display_name": "Python 3 (ipykernel)",
   "language": "python",
   "name": "python3"
  },
  "language_info": {
   "codemirror_mode": {
    "name": "ipython",
    "version": 3
   },
   "file_extension": ".py",
   "mimetype": "text/x-python",
   "name": "python",
   "nbconvert_exporter": "python",
   "pygments_lexer": "ipython3",
   "version": "3.9.12"
  }
 },
 "nbformat": 4,
 "nbformat_minor": 5
}
